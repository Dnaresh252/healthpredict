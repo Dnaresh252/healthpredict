{
  "cells": [
    {
      "cell_type": "raw",
      "metadata": {
        "vscode": {
          "languageId": "raw"
        }
      },
      "source": [
        "# Disease Prediction Model Training\n",
        "\n",
        "This notebook will:\n",
        "1. Load and preprocess the symptom severity data\n",
        "2. Create synthetic training data\n",
        "3. Train Random Forest and Naive Bayes models\n",
        "4. Save the models with proper feature names\n"
      ]
    },
    {
      "cell_type": "code",
      "execution_count": 1,
      "metadata": {},
      "outputs": [],
      "source": [
        "# Import required libraries\n",
        "import pandas as pd\n",
        "import numpy as np\n",
        "from sklearn.model_selection import train_test_split\n",
        "from sklearn.ensemble import RandomForestClassifier\n",
        "from sklearn.naive_bayes import MultinomialNB\n",
        "from sklearn.preprocessing import LabelEncoder\n",
        "import joblib\n",
        "\n",
        "# Set random seed for reproducibility\n",
        "np.random.seed(42)\n"
      ]
    },
    {
      "cell_type": "code",
      "execution_count": 2,
      "metadata": {},
      "outputs": [
        {
          "name": "stdout",
          "output_type": "stream",
          "text": [
            "Number of symptoms: 133\n",
            "\n",
            "First 10 symptoms: ['itching', 'skin_rash', 'nodal_skin_eruptions', 'continuous_sneezing', 'shivering', 'chills', 'joint_pain', 'stomach_pain', 'acidity', 'ulcers_on_tongue']\n"
          ]
        }
      ],
      "source": [
        "# Load symptom severity data\n",
        "severity_df = pd.read_csv('Symptom-severity.csv')\n",
        "symptoms_list = severity_df['Symptom'].tolist()\n",
        "severity_weights = dict(zip(severity_df['Symptom'], severity_df['weight']))\n",
        "\n",
        "print(\"Number of symptoms:\", len(symptoms_list))\n",
        "print(\"\\nFirst 10 symptoms:\", symptoms_list[:10])\n"
      ]
    },
    {
      "cell_type": "code",
      "execution_count": 3,
      "metadata": {},
      "outputs": [
        {
          "name": "stdout",
          "output_type": "stream",
          "text": [
            "Dataset shape: (300, 133)\n",
            "\n",
            "Sample data:\n",
            "   itching  skin_rash  nodal_skin_eruptions  continuous_sneezing  shivering  \\\n",
            "0        0          0                     0                    4          0   \n",
            "1        0          0                     0                    4          0   \n",
            "2        0          0                     0                    4          0   \n",
            "3        0          0                     0                    4          0   \n",
            "4        0          0                     0                    4          0   \n",
            "\n",
            "   chills  joint_pain  stomach_pain  acidity  ulcers_on_tongue  ...  scurring  \\\n",
            "0       0           0             0        0                 0  ...         0   \n",
            "1       0           0             0        0                 0  ...         0   \n",
            "2       0           0             0        0                 0  ...         0   \n",
            "3       0           0             0        0                 0  ...         0   \n",
            "4       0           0             0        0                 0  ...         0   \n",
            "\n",
            "   skin_peeling  silver_like_dusting  small_dents_in_nails  \\\n",
            "0             0                    0                     0   \n",
            "1             0                    0                     0   \n",
            "2             0                    0                     0   \n",
            "3             0                    0                     0   \n",
            "4             0                    0                     0   \n",
            "\n",
            "   inflammatory_nails  blister  red_sore_around_nose  yellow_crust_ooze  \\\n",
            "0                   0        0                     0                  0   \n",
            "1                   0        0                     0                  0   \n",
            "2                   0        0                     0                  0   \n",
            "3                   0        0                     0                  0   \n",
            "4                   0        0                     0                  0   \n",
            "\n",
            "   prognosis      Disease  \n",
            "0          0  Common Cold  \n",
            "1          0  Common Cold  \n",
            "2          0  Common Cold  \n",
            "3          0  Common Cold  \n",
            "4          0  Common Cold  \n",
            "\n",
            "[5 rows x 133 columns]\n"
          ]
        }
      ],
      "source": [
        "# Create synthetic disease-symptom dataset\n",
        "diseases = [\n",
        "    'Common Cold',\n",
        "    'Pneumonia',\n",
        "    'Dengue',\n",
        "    'Typhoid',\n",
        "    'Hepatitis',\n",
        "    'Jaundice'\n",
        "]\n",
        "\n",
        "# Define typical symptoms for each disease\n",
        "disease_symptoms = {\n",
        "    'Common Cold': ['continuous_sneezing', 'runny_nose', 'headache', 'cough', 'fatigue'],\n",
        "    'Pneumonia': ['high_fever', 'breathlessness', 'chest_pain', 'cough', 'fatigue'],\n",
        "    'Dengue': ['high_fever', 'headache', 'joint_pain', 'fatigue', 'nausea'],\n",
        "    'Typhoid': ['high_fever', 'headache', 'abdominal_pain', 'diarrhoea', 'fatigue'],\n",
        "    'Hepatitis': ['yellowish_skin', 'dark_urine', 'nausea', 'loss_of_appetite', 'abdominal_pain'],\n",
        "    'Jaundice': ['yellowish_skin', 'yellowing_of_eyes', 'dark_urine', 'fatigue', 'weight_loss']\n",
        "}\n",
        "\n",
        "# Create training data\n",
        "data = []\n",
        "for disease in diseases:\n",
        "    symptoms = disease_symptoms[disease]\n",
        "    # Create 50 samples per disease with different symptom combinations\n",
        "    for _ in range(50):\n",
        "        # Randomly select 3-5 symptoms from the disease's symptom list\n",
        "        num_symptoms = np.random.randint(3, len(symptoms) + 1)\n",
        "        selected_symptoms = np.random.choice(symptoms, num_symptoms, replace=False)\n",
        "        \n",
        "        # Create a row with all symptoms set to 0\n",
        "        row = {symptom: 0 for symptom in symptoms_list}\n",
        "        \n",
        "        # Set selected symptoms to their severity weights\n",
        "        for symptom in selected_symptoms:\n",
        "            row[symptom] = severity_weights.get(symptom, 1)\n",
        "        \n",
        "        # Add disease label\n",
        "        row['Disease'] = disease\n",
        "        data.append(row)\n",
        "\n",
        "# Convert to DataFrame\n",
        "df = pd.DataFrame(data)\n",
        "\n",
        "print(\"Dataset shape:\", df.shape)\n",
        "print(\"\\nSample data:\")\n",
        "print(df.head())\n"
      ]
    },
    {
      "cell_type": "code",
      "execution_count": 4,
      "metadata": {},
      "outputs": [
        {
          "name": "stdout",
          "output_type": "stream",
          "text": [
            "Training set shape: (240, 132)\n",
            "Testing set shape: (60, 132)\n"
          ]
        },
        {
          "data": {
            "text/plain": [
              "['label_encoder.joblib']"
            ]
          },
          "execution_count": 4,
          "metadata": {},
          "output_type": "execute_result"
        }
      ],
      "source": [
        "# Prepare features and target\n",
        "X = df.drop('Disease', axis=1)\n",
        "y = df['Disease']\n",
        "\n",
        "# Label encode the target variable\n",
        "le = LabelEncoder()\n",
        "y = le.fit_transform(y)\n",
        "\n",
        "# Split the data\n",
        "X_train, X_test, y_train, y_test = train_test_split(X, y, test_size=0.2, random_state=42)\n",
        "\n",
        "print(\"Training set shape:\", X_train.shape)\n",
        "print(\"Testing set shape:\", X_test.shape)\n",
        "\n",
        "# Save feature names and label encoder\n",
        "feature_names = X.columns.tolist()\n",
        "joblib.dump(feature_names, 'feature_names.joblib')\n",
        "joblib.dump(le, 'label_encoder.joblib')\n"
      ]
    },
    {
      "cell_type": "code",
      "execution_count": 6,
      "metadata": {},
      "outputs": [
        {
          "name": "stdout",
          "output_type": "stream",
          "text": [
            "Random Forest accuracy: 1.0\n",
            "Naive Bayes accuracy: 1.0\n"
          ]
        },
        {
          "data": {
            "text/plain": [
              "['naive_bayes_model.joblib']"
            ]
          },
          "execution_count": 6,
          "metadata": {},
          "output_type": "execute_result"
        }
      ],
      "source": [
        "# Train and save Random Forest model\n",
        "rf_model = RandomForestClassifier(n_estimators=100, random_state=42)\n",
        "rf_model.fit(X_train, y_train)\n",
        "rf_score = rf_model.score(X_test, y_test)\n",
        "print(\"Random Forest accuracy:\", rf_score)\n",
        "\n",
        "# Train and save Naive Bayes model\n",
        "nb_model = MultinomialNB()\n",
        "nb_model.fit(X_train, y_train)\n",
        "nb_score = nb_model.score(X_test, y_test)\n",
        "print(\"Naive Bayes accuracy:\", nb_score)\n",
        "\n",
        "# Save the models\n",
        "joblib.dump(rf_model, 'random_forest_model.joblib')\n",
        "joblib.dump(nb_model, 'naive_bayes_model.joblib')\n"
      ]
    }
  ],
  "metadata": {
    "kernelspec": {
      "display_name": "Python 3",
      "language": "python",
      "name": "python3"
    },
    "language_info": {
      "codemirror_mode": {
        "name": "ipython",
        "version": 3
      },
      "file_extension": ".py",
      "mimetype": "text/x-python",
      "name": "python",
      "nbconvert_exporter": "python",
      "pygments_lexer": "ipython3",
      "version": "3.10.11"
    }
  },
  "nbformat": 4,
  "nbformat_minor": 2
}
